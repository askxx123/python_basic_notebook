{
 "cells": [
  {
   "cell_type": "code",
   "execution_count": null,
   "id": "ae5814e8",
   "metadata": {},
   "outputs": [],
   "source": [
    "# 파이썬 심화과정\n",
    "# - 웹 크롤링:웹 페이지에서 원하는 데이터를 수집\n",
    "# - 모듈:Beautifulsoup4, selenium, requests\n",
    "\n",
    "# - 데이터 수집!\n",
    "\n",
    "# 인공지능 개발 과정\n",
    "# 1.데이터 수집\n",
    "# 2.데이터 저장\n",
    "# 3. 탐색적 데이터 분석(EDA)\n",
    "# 4.데이터 전처리\n",
    "# 5.데이터 변환\n",
    "# 6.베이스라인 모델 개발\n",
    "# 7.성능 향상\n",
    "# 8.시각화\n",
    "# 9.배포 및 서비스\n",
    "\n",
    "# 웹 서비스\n",
    "# - HTML(메인), CCS, Javascript : 웹 표준\n",
    "# Daum News의 제목, 본문 수집 코드\n",
    "\n",
    "import requests\n",
    "from bs4 import BeautifulSoup\n",
    "\n",
    "# requests: 웹사이트 코드 복사 Get\n",
    "# Beautifulsoup: requests Get 해온 코드에서 필요한 정보만 find해서 가져오기\n",
    "\n",
    "url = \"https://v.daum.net/v/20230509090530015\" # 수집 할 페이지 주소\n",
    "result = requets.get(url)\n",
    "\n",
    "\n",
    "\n",
    "# 웹 브라우저                              네이버 서버\n",
    "#                           ------->request\n",
    "#                            < -------------reponse\n",
    "# response[200]: success\n",
    "# response[400~500]: fail\n",
    "#print(result)\n",
    "#print(result.text)\n",
    "\n",
    "# requests로 가져온 코드 → Beautifulsoup한테 접근 가능한 코드로 변경\n",
    "doc = BeautifulSoup(result.text, \"html.parser\")\n",
    "doc.select(\"h3.tit_view\")[0].get_text()\n",
    "contents = doc.select(\"section > p\")  # section 태그 안에 있는 p 태그들\n",
    "\n",
    "\n",
    "print(\"=\" * 100)\n",
    "print(f\"뉴스제목: {title}\")\n",
    "print(\"=\" * 100)\n",
    "content = \"\"  # 전체 본문을 담을 변수\n",
    "contents.pop(-1)\n",
    "for tag in contents:\n",
    "    content = content + tag.get_text()\n",
    "print(f\"뉴스본문: { content}\")"
   ]
  }
 ],
 "metadata": {
  "kernelspec": {
   "display_name": "Python 3 (ipykernel)",
   "language": "python",
   "name": "python3"
  },
  "language_info": {
   "codemirror_mode": {
    "name": "ipython",
    "version": 3
   },
   "file_extension": ".py",
   "mimetype": "text/x-python",
   "name": "python",
   "nbconvert_exporter": "python",
   "pygments_lexer": "ipython3",
   "version": "3.9.7"
  }
 },
 "nbformat": 4,
 "nbformat_minor": 5
}
