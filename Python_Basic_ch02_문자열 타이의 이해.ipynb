{
 "cells": [
  {
   "cell_type": "code",
   "execution_count": 4,
   "id": "63aa665e",
   "metadata": {},
   "outputs": [
    {
     "name": "stdout",
     "output_type": "stream",
     "text": [
      "아이디 입력: 12345\n",
      "12345회원님 반갑습니다.\n",
      "12345 회원님 반갑습니다.\n"
     ]
    }
   ],
   "source": [
    "# input() 사용자 키보드로부터 값을 입력!\n",
    "id = input(\"아이디 입력: \")\n",
    "print(\"{}회원님 반갑습니다.\".format(id))\n",
    "print(f\"{id} 회원님 반갑습니다.\")"
   ]
  },
  {
   "cell_type": "markdown",
   "id": "029b9fb3",
   "metadata": {},
   "source": [
    "## 1. 문자열(string)\n",
    "- 복수개의 문자를 순서대로 나열한 것\n",
    "- 문자열은 ''또는 \"\"사이에 문자를 넣어서 생성\n",
    "- 문자열 자체에 ''또는 \"\"이 있는 경우 각각 그 반대로 사용"
   ]
  },
  {
   "cell_type": "code",
   "execution_count": 6,
   "id": "2d98fdb1",
   "metadata": {},
   "outputs": [
    {
     "name": "stdout",
     "output_type": "stream",
     "text": [
      "챗봇 : \"만나서 반갑습니다.\"\n"
     ]
    }
   ],
   "source": [
    "print('챗봇 : \"만나서 반갑습니다.\"')"
   ]
  },
  {
   "cell_type": "code",
   "execution_count": 8,
   "id": "35d819d2",
   "metadata": {},
   "outputs": [
    {
     "name": "stdout",
     "output_type": "stream",
     "text": [
      "HI\n",
      "HI\n",
      "HI\n",
      "HELLO\n",
      "HI\n"
     ]
    }
   ],
   "source": [
    "print('HI') # 한 줄 출력\n",
    "print(\"HI\") # 한 줄 출력\n",
    "print('''HI\n",
    "HELLO''')  ## 여러 줄 출력\n",
    "print(\"\"\"HI\"\"\") "
   ]
  },
  {
   "cell_type": "markdown",
   "id": "f1e03e30",
   "metadata": {},
   "source": [
    "## 2.문자열 인덱스(index)\n",
    "- 문자열의 각 문자는 순서(인덱스)가 있음\n",
    "- 첫번째 문자부터 마지막 문자까지 순차적으로 인덱스를 가짐\n",
    "- 인덱스의 시작은 0번부터 시작\n",
    "- 인덱스는 공백 포함"
   ]
  },
  {
   "cell_type": "markdown",
   "id": "c2801413",
   "metadata": {},
   "source": [
    "### 문자 추출\n",
    "- 인덱스번호를 통해서 문자 추출 가능\n",
    "- 인덱스 범위를 벗어나면 error 발생\n",
    "\n",
    "> 변수명.[인덱스번호]. -> name.[3]\n"
   ]
  },
  {
   "cell_type": "code",
   "execution_count": 12,
   "id": "154e86a0",
   "metadata": {},
   "outputs": [
    {
     "name": "stdout",
     "output_type": "stream",
     "text": [
      "o\n"
     ]
    }
   ],
   "source": [
    "# 문자열 길이 : 12\n",
    "# 인덱스 범위 : 0 ~ 11\n",
    "msg = \"Hello Python\"\n",
    "print(msg[4])"
   ]
  },
  {
   "cell_type": "markdown",
   "id": "9613e3b4",
   "metadata": {},
   "source": [
    "### reverse index(-1)"
   ]
  },
  {
   "cell_type": "code",
   "execution_count": 13,
   "id": "f1bed038",
   "metadata": {},
   "outputs": [
    {
     "name": "stdout",
     "output_type": "stream",
     "text": [
      "n\n",
      "h\n"
     ]
    }
   ],
   "source": [
    "msg = \"Hello Python\"\n",
    "\n",
    "print(msg[-1])\n",
    "print(msg[-3])"
   ]
  },
  {
   "cell_type": "code",
   "execution_count": null,
   "id": "33b44239",
   "metadata": {},
   "outputs": [],
   "source": [
    "### 3. 문자열 슬라이싱\n",
    "- a[3]은 인덱스를 통해 문자 하나만 추출 가능\n",
    "- 부분 문자열을 추출하고 싶은 경우 슬라이싱 사용\n",
    "- 시작 인덱스 번호가 생략되면 0으로 설정\n",
    "- 끝 인덱스 번호가 생략되면 -1으로 설정\n",
    "\n",
    "> 변수명[시작 : 끝]. -> name.[3:5]. 3~4(끝 인덱스 -1) "
   ]
  },
  {
   "cell_type": "code",
   "execution_count": 15,
   "id": "2e0d935f",
   "metadata": {},
   "outputs": [
    {
     "name": "stdout",
     "output_type": "stream",
     "text": [
      "P\n",
      "Python\n",
      "Python\n"
     ]
    }
   ],
   "source": [
    "comment = \"Python is all you need\"\n",
    "\n",
    "print(comment[0])\n",
    "print(comment[0:6])\n",
    "print(comment[:6])"
   ]
  },
  {
   "cell_type": "code",
   "execution_count": 1,
   "id": "6a5a169b",
   "metadata": {},
   "outputs": [
    {
     "name": "stdout",
     "output_type": "stream",
     "text": [
      "n\n"
     ]
    }
   ],
   "source": [
    "# need만 추출\n",
    "comment = \"Python is all you need\"\n",
    "print(comment[-4])"
   ]
  },
  {
   "cell_type": "markdown",
   "id": "d9990c5d",
   "metadata": {},
   "source": [
    "### 4. 문자열 멤버 함수"
   ]
  },
  {
   "cell_type": "code",
   "execution_count": 6,
   "id": "4229d9e5",
   "metadata": {},
   "outputs": [],
   "source": [
    "str = \"hello World\""
   ]
  },
  {
   "cell_type": "markdown",
   "id": "d78d6b34",
   "metadata": {},
   "source": [
    "# len() : 문자열 길이를 계산\n",
    "print(len(str))"
   ]
  },
  {
   "cell_type": "markdown",
   "id": "887a8547",
   "metadata": {},
   "source": [
    "# upper() and lower() : 대문자 또는 소문자로 변경\n",
    "print(str.upper())\n",
    "print(str.lower())"
   ]
  },
  {
   "cell_type": "code",
   "execution_count": 8,
   "id": "db52a63b",
   "metadata": {
    "scrolled": true
   },
   "outputs": [
    {
     "data": {
      "text/plain": [
       "'hellj Wjrld'"
      ]
     },
     "execution_count": 8,
     "metadata": {},
     "output_type": "execute_result"
    }
   ],
   "source": [
    "# replace() : 문자열 내의 특정 문자 치환\n",
    "str.replace(\"o\", \"j\")"
   ]
  },
  {
   "cell_type": "code",
   "execution_count": 10,
   "id": "a23d401b",
   "metadata": {},
   "outputs": [
    {
     "name": "stdout",
     "output_type": "stream",
     "text": [
      "['hello ', 'orld ', 'hat a nice ', 'eather']\n",
      "['hello', 'world', 'what', 'a', 'nice', 'weather']\n"
     ]
    }
   ],
   "source": [
    "# split() : 구분자를 기준으로 문자열 분할, default 구분자 공백\n",
    "a = \"hello world what a nice weather\"\n",
    "print(a.split(\"w\"))\n",
    "print(a.split())"
   ]
  },
  {
   "cell_type": "code",
   "execution_count": 2,
   "id": "c861ea4f",
   "metadata": {},
   "outputs": [
    {
     "name": "stdout",
     "output_type": "stream",
     "text": [
      "아이디:          askcc123      , 길이: 23\n",
      "아이디: askcc123, 길이: 8\n"
     ]
    }
   ],
   "source": [
    "# strip() : 문자열의 좌우공백을 제거\n",
    "id = \"         askcc123      \"\n",
    "print(f\"아이디: {id}, 길이: {len(id)}\")\n",
    "print(f\"아이디: {id.strip()}, 길이: {len(id.strip())}\")"
   ]
  },
  {
   "cell_type": "code",
   "execution_count": 6,
   "id": "20360e3e",
   "metadata": {},
   "outputs": [
    {
     "name": "stdout",
     "output_type": "stream",
     "text": [
      "2\n",
      "3\n",
      "6\n",
      "6\n"
     ]
    }
   ],
   "source": [
    "# find() and rfind()\n",
    "# -문자열 내부의 특정 문자의 인덱스를 출력\n",
    "str = \"Hello Python\"\n",
    "print(str.find('l'))\n",
    "print(str.rfind('l'))\n",
    "print(str.find('Python'))\n",
    "print(str.rfind('Python'))"
   ]
  },
  {
   "cell_type": "code",
   "execution_count": 7,
   "id": "a342f45d",
   "metadata": {},
   "outputs": [
    {
     "name": "stdout",
     "output_type": "stream",
     "text": [
      "True\n",
      "False\n"
     ]
    }
   ],
   "source": [
    "# in() : 특정 문자열을 포함하고 있는지 확인(True, False)\n",
    "\n",
    "print(\"Hi\" in \"Hi Python\")\n",
    "print(\"Hi\" in \"Hello Python\")"
   ]
  },
  {
   "cell_type": "code",
   "execution_count": null,
   "id": "8b877941",
   "metadata": {},
   "outputs": [],
   "source": []
  }
 ],
 "metadata": {
  "kernelspec": {
   "display_name": "Python 3 (ipykernel)",
   "language": "python",
   "name": "python3"
  },
  "language_info": {
   "codemirror_mode": {
    "name": "ipython",
    "version": 3
   },
   "file_extension": ".py",
   "mimetype": "text/x-python",
   "name": "python",
   "nbconvert_exporter": "python",
   "pygments_lexer": "ipython3",
   "version": "3.9.7"
  }
 },
 "nbformat": 4,
 "nbformat_minor": 5
}
